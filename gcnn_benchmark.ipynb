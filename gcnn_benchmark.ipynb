{
  "cells": [
    {
      "cell_type": "markdown",
      "metadata": {
        "id": "view-in-github",
        "colab_type": "text"
      },
      "source": [
        "<a href=\"https://colab.research.google.com/github/aryan-at-ul/Med-MNISt-classification-GCNN/blob/main/gcnn_benchmark.ipynb\" target=\"_parent\"><img src=\"https://colab.research.google.com/assets/colab-badge.svg\" alt=\"Open In Colab\"/></a>"
      ]
    },
    {
      "cell_type": "code",
      "source": [
        "!pip install medmnist"
      ],
      "metadata": {
        "id": "tHe7bIm-J4MN"
      },
      "execution_count": null,
      "outputs": []
    },
    {
      "cell_type": "code",
      "source": [
        "from tqdm import tqdm\n",
        "import numpy as np\n",
        "import torch\n",
        "import torch.nn as nn\n",
        "import torch.optim as optim\n",
        "import torch.utils.data as data\n",
        "import torchvision.transforms as transforms\n",
        "\n",
        "import medmnist\n",
        "from medmnist import INFO, Evaluator"
      ],
      "metadata": {
        "id": "dG1cHXO7Ahpv"
      },
      "execution_count": 1,
      "outputs": []
    },
    {
      "cell_type": "code",
      "source": [
        "import os\n",
        "os.environ['CUDA_LAUNCH_BLOCKING'] = '1'"
      ],
      "metadata": {
        "id": "dOjCW7s3LXKz"
      },
      "execution_count": 2,
      "outputs": []
    },
    {
      "cell_type": "code",
      "source": [
        "import gc\n",
        "\n",
        "data_flag = 'pathmnist'\n",
        "# data_flag = 'breastmnist'\n",
        "download = True\n",
        "\n",
        "NUM_EPOCHS = 3\n",
        "BATCH_SIZE = 64\n",
        "lr = 0.001\n",
        "\n",
        "info = INFO[data_flag]\n",
        "task = info['task']\n",
        "n_channels = info['n_channels']\n",
        "n_classes = len(info['label'])\n",
        "\n",
        "DataClass = getattr(medmnist, info['python_class'])"
      ],
      "metadata": {
        "id": "wnLiKj7Iry-g"
      },
      "execution_count": 3,
      "outputs": []
    },
    {
      "cell_type": "code",
      "source": [
        "# preprocessing\n",
        "data_transform = transforms.Compose([\n",
        "    transforms.ToTensor(),\n",
        "    transforms.Grayscale(num_output_channels=1),\n",
        "    transforms.Normalize(mean=[.5], std=[.5])\n",
        "])\n",
        "BATCH_SIZE = 64\n",
        "# load the data\n",
        "train_dataset = DataClass(split='train', transform=data_transform, download=download)\n",
        "test_dataset = DataClass(split='test', transform=data_transform, download=download)\n",
        "\n",
        "train_dataset = [(one[0],one[1][0],) for one in train_dataset]\n",
        "test_dataset = [(one[0],one[1][0],) for one in test_dataset]\n",
        "\n",
        "train_dataset = train_dataset[0:89984]\n",
        "test_dataset = test_dataset[0:7168]\n",
        "\n",
        "pil_dataset = DataClass(split='train', download=download)\n",
        "\n",
        "# encapsulate data into dataloader form\n",
        "train_loader = data.DataLoader(dataset=train_dataset, batch_size=BATCH_SIZE, shuffle=True)\n",
        "train_loader_at_eval = data.DataLoader(dataset=train_dataset, batch_size=BATCH_SIZE, shuffle=False)\n",
        "test_loader = data.DataLoader(dataset=test_dataset, batch_size=BATCH_SIZE, shuffle=False)"
      ],
      "metadata": {
        "colab": {
          "base_uri": "https://localhost:8080/"
        },
        "id": "ER3fBuQ2At-U",
        "outputId": "d73c0699-19b7-49b9-ada2-472d50f047bd"
      },
      "execution_count": 4,
      "outputs": [
        {
          "output_type": "stream",
          "name": "stdout",
          "text": [
            "Using downloaded and verified file: /root/.medmnist/pathmnist.npz\n",
            "Using downloaded and verified file: /root/.medmnist/pathmnist.npz\n",
            "Using downloaded and verified file: /root/.medmnist/pathmnist.npz\n"
          ]
        }
      ]
    },
    {
      "cell_type": "code",
      "source": [
        "# train_loader = []\n",
        "# y = torch.Tensor(torch.flatten(y))\n",
        "print(len(test_dataset))\n",
        "print(len(train_dataset))\n",
        "\n",
        "\n",
        "for i, (x, y) in enumerate(train_loader):\n",
        "        print(x.shape, y.shape) \n",
        "        break\n",
        "# for one in train_dataset:\n",
        "#     # for x in one:\n",
        "#     #     print(x.shape)\n",
        "#     #     break\n",
        "#     # break\n",
        "#     print(one[1][0]) \n",
        "#     break\n"
      ],
      "metadata": {
        "colab": {
          "base_uri": "https://localhost:8080/"
        },
        "id": "J_NrWhg4ICsr",
        "outputId": "ee9b7588-0776-40b3-800d-dee35ad92839"
      },
      "execution_count": 5,
      "outputs": [
        {
          "output_type": "stream",
          "name": "stdout",
          "text": [
            "7168\n",
            "89984\n",
            "torch.Size([64, 1, 28, 28]) torch.Size([64])\n"
          ]
        }
      ]
    },
    {
      "cell_type": "code",
      "source": [
        "from __future__ import print_function\n",
        "import argparse\n",
        "import torch\n",
        "import torch.nn as nn\n",
        "import torch.nn.functional as F\n",
        "import torch.optim as optim\n",
        "from torchvision import datasets, transforms\n",
        "import numpy as np\n",
        "from scipy.spatial.distance import cdist\n",
        "\n",
        "\n",
        "import torch\n",
        "import torch.nn.functional as F\n",
        "from torchvision.datasets import MNIST\n",
        "from torchvision.transforms import ToTensor\n",
        "from torch.utils.data import DataLoader\n",
        "from torch_geometric.nn import global_mean_pool as gap, global_max_pool as gmp\n",
        "\n",
        "from torch_geometric.utils import grid\n",
        "from torch_geometric.nn import SplineConv,GraphConv,TopKPooling"
      ],
      "metadata": {
        "id": "G2-E9x5fbQFo"
      },
      "execution_count": 6,
      "outputs": []
    },
    {
      "cell_type": "code",
      "source": [
        "def to_batch(edge_index, pos, batch_size):\n",
        "    edge_indices = [edge_index + pos.size(0) * i for i in range(batch_size)]\n",
        "    edge_index = torch.cat(edge_indices, dim=1)\n",
        "    pos = torch.cat([pos] * batch_size, dim=0)\n",
        "    edge_attr = pos[edge_index[0]] - pos[edge_index[1]]\n",
        "    return edge_index, (edge_attr + 1.) / 2.\n",
        "\n",
        "\n",
        "edge_index1, edge_attr1 = to_batch(*grid(28, 28), batch_size=64)\n",
        "edge_index2, edge_attr2 = to_batch(*grid(14, 14), batch_size=64)\n"
      ],
      "metadata": {
        "id": "Ha_EYBPI5Icm"
      },
      "execution_count": 7,
      "outputs": []
    },
    {
      "cell_type": "code",
      "source": [
        "# # !pip uninstall torch-scatter torch-sparse torch-cluster torch-spline-conv & y\n",
        "# import torch\n",
        "\n",
        "# def format_pytorch_version(version):\n",
        "#   return version.split('+')[0]\n",
        "\n",
        "# TORCH_version = torch.__version__\n",
        "# TORCH = format_pytorch_version(TORCH_version)\n",
        "\n",
        "# def format_cuda_version(version):\n",
        "#   return 'cu' + version.replace('.', '')\n",
        "\n",
        "# CUDA_version = torch.version.cuda\n",
        "# CUDA = format_cuda_version(CUDA_version)\n",
        "\n",
        "# !pip install torch-scatter     -f https://pytorch-geometric.com/whl/torch-{TORCH}+{CUDA}.html\n",
        "# !pip install torch-sparse      -f https://pytorch-geometric.com/whl/torch-{TORCH}+{CUDA}.html\n",
        "# !pip install torch-cluster     -f https://pytorch-geometric.com/whl/torch-{TORCH}+{CUDA}.html\n",
        "# !pip install torch-spline-conv -f https://pytorch-geometric.com/whl/torch-{TORCH}+{CUDA}.html"
      ],
      "metadata": {
        "id": "9b0JpbPG6I4T"
      },
      "execution_count": 8,
      "outputs": []
    },
    {
      "cell_type": "code",
      "source": [
        "class Net(torch.nn.Module):\n",
        "    def __init__(self):\n",
        "        super(Net, self).__init__()\n",
        "        self.conv1 = SplineConv(1, 32, dim=2, kernel_size=3)\n",
        "        self.conv2 = SplineConv(32, 64, dim=2, kernel_size=3)\n",
        "        self.fc1 = torch.nn.Linear(3136, 512)\n",
        "        self.fc2 = torch.nn.Linear(512, 9)\n",
        "\n",
        "    def forward(self, x):\n",
        "        x = x.view(-1, 1)\n",
        "        x = F.elu(self.conv1(x.view(-1, 1), edge_index1, edge_attr1))\n",
        "        x = x.view(64, 28, 28, 32).permute(0, 3, 1, 2)\n",
        "        x = F.max_pool2d(x, kernel_size=2)\n",
        "        x = x.permute(0, 2, 3, 1).contiguous().view(-1, 32)\n",
        "        x = F.elu(self.conv2(x, edge_index2, edge_attr2))\n",
        "        x = x.view(64, 14, 14, 64).permute(0, 3, 1, 2)\n",
        "        x = F.max_pool2d(x, kernel_size=2)\n",
        "        x = x.contiguous().view(64, -1)\n",
        "\n",
        "        x = F.elu(self.fc1(x))\n",
        "        return F.log_softmax(self.fc2(x), dim=1)\n",
        "\n",
        "\n",
        "device = torch.device('cuda' if torch.cuda.is_available() else 'cpu')\n",
        "model = Net().to(device)\n",
        "optimizer = torch.optim.Adam(model.parameters(), lr=0.001)\n",
        "edge_index1, edge_attr1 = edge_index1.to(device), edge_attr1.to(device)\n",
        "edge_index2, edge_attr2 = edge_index2.to(device), edge_attr2.to(device)\n"
      ],
      "metadata": {
        "id": "fiJqGrrY5zu-"
      },
      "execution_count": 8,
      "outputs": []
    },
    {
      "cell_type": "code",
      "source": [
        "def train(epoch):\n",
        "    model.train()\n",
        "\n",
        "    for i, (x, y) in enumerate(train_loader):\n",
        "        # print(\"y.shape\",y.shape)\n",
        "        y = torch.Tensor(y)\n",
        "        # print(\"y.shape after flattening\",y.shape)\n",
        "        x, y = x.to(device), y.to(device)\n",
        "        optimizer.zero_grad()\n",
        "        pred = model(x)\n",
        "        # print(y)\n",
        "        # print(\"pred shape\",pred.shape)\n",
        "        loss = F.nll_loss(model(x), y)\n",
        "        loss.backward()\n",
        "        optimizer.step()\n",
        "        # print(i, len(train_loader), loss.item())\n",
        "\n",
        "def test():\n",
        "    model.eval()\n",
        "\n",
        "    correct = 0\n",
        "    for i, (x, y) in enumerate(test_loader):\n",
        "        # y = torch.Tensor(torch.flatten(y))\n",
        "        y = torch.Tensor(y)\n",
        "        x, y = x.to(device), y.to(device)\n",
        "        pred = model(x).max(1)[1]\n",
        "        # print(pred.shape,\"jjdhfjhsdjfhsjdhfjksdhfjhsd\")\n",
        "        # print(y.shape,\"kdjhsfkshdkfjhkjsdhfkshdkjhsfkdhskj\")\n",
        "        correct += pred.eq(y).sum().item()\n",
        "    return correct / len(test_dataset)\n",
        "\n"
      ],
      "metadata": {
        "id": "wssFYlLr8LYX"
      },
      "execution_count": 9,
      "outputs": []
    },
    {
      "cell_type": "code",
      "source": [
        "for epoch in range(1,3):\n",
        "    train(epoch)\n",
        "    test_acc = test()\n",
        "    print('Epoch: {:02d}, Test: {:.4f}'.format(epoch, test_acc))"
      ],
      "metadata": {
        "colab": {
          "base_uri": "https://localhost:8080/"
        },
        "id": "iy-1WVF-8UhC",
        "outputId": "c1bb1d9b-b400-4e97-817b-63b978c29a61"
      },
      "execution_count": 15,
      "outputs": [
        {
          "output_type": "stream",
          "name": "stdout",
          "text": [
            "Epoch: 01, Test: 0.5960\n",
            "Epoch: 02, Test: 0.6875\n"
          ]
        }
      ]
    },
    {
      "cell_type": "code",
      "source": [
        "class Net(torch.nn.Module):\n",
        "    def __init__(self):\n",
        "        super(Net, self).__init__()\n",
        "        self.conv1 = GraphConv(64, 128)\n",
        "        self.pool1 = TopKPooling(128, ratio=0.8)\n",
        "        self.conv2 = GraphConv(128, 128)\n",
        "        self.pool2 = TopKPooling(128, ratio=0.8)\n",
        "        self.conv3 = GraphConv(128, 128)\n",
        "        self.pool3 = TopKPooling(128, ratio=0.8)\n",
        "        \n",
        "        self.lin1 = torch.nn.Linear(256, 128)\n",
        "        self.lin2 = torch.nn.Linear(128, 64)\n",
        "        self.lin3 = torch.nn.Linear(64, 9)\n",
        "        \n",
        "    def forward(self, data):\n",
        "            x, edge_index, batch = data.x, data.edge_index, data.batch\n",
        "            x = F.relu(self.conv1(x, edge_index))\n",
        "            x, edge_index, _, batch, _, _ = self.pool1(x, edge_index, None, batch)\n",
        "            x1 = torch.cat([gmp(x, batch), gap(x, batch)], dim=1)\n",
        "            x = F.relu(self.conv2(x, edge_index))\n",
        "            x, edge_index, _, batch, _, _ = self.pool2(x, edge_index, None, batch)\n",
        "            x2 = torch.cat([gmp(x, batch), gap(x, batch)], dim=1)\n",
        "            x = F.relu(self.conv3(x, edge_index))\n",
        "            x, edge_index, _, batch, _, _ = self.pool3(x, edge_index, None, batch)\n",
        "            x3 = torch.cat([gmp(x, batch), gap(x, batch)], dim=1)\n",
        "            x = x1 + x2 + x3\n",
        "            x = F.relu(self.lin1(x))\n",
        "            x = F.dropout(x, p=0.5, training=self.training)\n",
        "            x = F.relu(self.lin2(x))\n",
        "            x = F.log_softmax(self.lin3(x), dim=-1)\n",
        "    \n",
        "            return x\n",
        "      "
      ],
      "metadata": {
        "id": "5CRUMQ5HW-Od"
      },
      "execution_count": 13,
      "outputs": []
    },
    {
      "cell_type": "code",
      "source": [
        "# def train(epoch):\n",
        "#     model.train()\n",
        "\n",
        "#     loss_all = 0\n",
        "#     for data in train_loader:\n",
        "#         data = data.to(device)\n",
        "#         optimizer.zero_grad()\n",
        "#         output = model(data)\n",
        "#         loss = F.nll_loss(output, data.y)\n",
        "#         loss.backward()\n",
        "#         loss_all += data.num_graphs * loss.item()\n",
        "#         optimizer.step()\n",
        "#     return loss_all / len(train_dataset)\n",
        "\n",
        "# def test(loader):\n",
        "#     model.eval()\n",
        "#     correct = 0\n",
        "#     for data in loader:\n",
        "#         data = data.to(device)\n",
        "#         pred = model(data).max(dim=1)[1]\n",
        "#         correct += pred.eq(data.y).sum().item()\n",
        "#     return correct / len(loader.dataset)\n",
        "\n",
        "\n",
        "def train(epoch):\n",
        "    model.train()\n",
        "\n",
        "    for i, (x, y) in enumerate(train_loader):\n",
        "        # print(\"y.shape\",y.shape)\n",
        "        y = torch.Tensor(y)\n",
        "        # print(\"y.shape after flattening\",y.shape)\n",
        "        x, y = x.to(device), y.to(device)\n",
        "        optimizer.zero_grad()\n",
        "        pred = model(x)\n",
        "        # print(y)\n",
        "        # print(\"pred shape\",pred.shape)\n",
        "        loss = F.nll_loss(model(x), y)\n",
        "        loss.backward()\n",
        "        optimizer.step()\n",
        "        # print(i, len(train_loader), loss.item())\n",
        "\n",
        "def test():\n",
        "    model.eval()\n",
        "\n",
        "    correct = 0\n",
        "    for i, (x, y) in enumerate(test_loader):\n",
        "        # y = torch.Tensor(torch.flatten(y))\n",
        "        y = torch.Tensor(y)\n",
        "        x, y = x.to(device), y.to(device)\n",
        "        pred = model(x).max(1)[1]\n",
        "        # print(pred.shape,\"jjdhfjhsdjfhsjdhfjksdhfjhsd\")\n",
        "        # print(y.shape,\"kdjhsfkshdkfjhkjsdhfkshdkjhsfkdhskj\")\n",
        "        correct += pred.eq(y).sum().item()\n",
        "    return correct / len(test_dataset)\n",
        "\n",
        "\n",
        "\n",
        "for epoch in range(1,100):\n",
        "    train(epoch)\n",
        "    test_acc = test()\n",
        "    print('Epoch: {:02d}, Test: {:.4f}'.format(epoch, test_acc))"
      ],
      "metadata": {
        "colab": {
          "base_uri": "https://localhost:8080/"
        },
        "id": "E7F94c4MYGHM",
        "outputId": "b51f61ee-0426-4945-a970-38881fcc5ba6"
      },
      "execution_count": null,
      "outputs": [
        {
          "output_type": "stream",
          "name": "stdout",
          "text": [
            "Epoch: 01, Test: 0.7194\n"
          ]
        }
      ]
    },
    {
      "cell_type": "code",
      "source": [
        "# #mnist code from tutorials\n",
        "\n",
        "# import torch\n",
        "# import torch.nn.functional as F\n",
        "# from torchvision.datasets import MNIST\n",
        "# from torchvision.transforms import ToTensor\n",
        "# from torch.utils.data import DataLoader\n",
        "\n",
        "# from torch_geometric.utils import grid\n",
        "# from torch_geometric.nn import SplineConv\n",
        "\n",
        "# train_dataset = MNIST('/tmp/MNIST', train=True, transform=ToTensor(),download=True)\n",
        "# test_dataset = MNIST('/tmp/MNIST', train=False, transform=ToTensor(),download=True)\n",
        "# train_loader = DataLoader(train_dataset, batch_size=64, shuffle=True,\n",
        "#                           drop_last=True)\n",
        "# test_loader = DataLoader(test_dataset, batch_size=64, drop_last=True)\n",
        "\n",
        "\n",
        "# def to_batch(edge_index, pos, batch_size):\n",
        "#     edge_indices = [edge_index + pos.size(0) * i for i in range(batch_size)]\n",
        "#     edge_index = torch.cat(edge_indices, dim=1)\n",
        "#     pos = torch.cat([pos] * batch_size, dim=0)\n",
        "#     edge_attr = pos[edge_index[0]] - pos[edge_index[1]]\n",
        "#     return edge_index, (edge_attr + 1.) / 2.\n",
        "\n",
        "\n",
        "# edge_index1, edge_attr1 = to_batch(*grid(28, 28), batch_size=64)\n",
        "# edge_index2, edge_attr2 = to_batch(*grid(14, 14), batch_size=64)\n",
        "\n",
        "\n",
        "# class Net(torch.nn.Module):\n",
        "#     def __init__(self):\n",
        "#         super(Net, self).__init__()\n",
        "#         self.conv1 = SplineConv(1, 32, dim=2, kernel_size=3)\n",
        "#         self.conv2 = SplineConv(32, 64, dim=2, kernel_size=3)\n",
        "#         self.fc1 = torch.nn.Linear(3136, 512)\n",
        "#         self.fc2 = torch.nn.Linear(512, 10)\n",
        "\n",
        "#     def forward(self, x):\n",
        "#         x = x.view(-1, 1)\n",
        "#         x = F.elu(self.conv1(x.view(-1, 1), edge_index1, edge_attr1))\n",
        "#         x = x.view(64, 28, 28, 32).permute(0, 3, 1, 2)\n",
        "#         x = F.max_pool2d(x, kernel_size=2)\n",
        "#         x = x.permute(0, 2, 3, 1).contiguous().view(-1, 32)\n",
        "#         x = F.elu(self.conv2(x, edge_index2, edge_attr2))\n",
        "#         x = x.view(64, 14, 14, 64).permute(0, 3, 1, 2)\n",
        "#         x = F.max_pool2d(x, kernel_size=2)\n",
        "#         x = x.contiguous().view(64, -1)\n",
        "\n",
        "#         x = F.elu(self.fc1(x))\n",
        "#         return F.log_softmax(self.fc2(x), dim=1)\n",
        "\n",
        "\n",
        "# device = torch.device('cuda' if torch.cuda.is_available() else 'cpu')\n",
        "# model = Net().to(device)\n",
        "# optimizer = torch.optim.Adam(model.parameters(), lr=0.01)\n",
        "# edge_index1, edge_attr1 = edge_index1.to(device), edge_attr1.to(device)\n",
        "# edge_index2, edge_attr2 = edge_index2.to(device), edge_attr2.to(device)"
      ],
      "metadata": {
        "id": "TG2gLzo4Be1g"
      },
      "execution_count": 13,
      "outputs": []
    },
    {
      "cell_type": "code",
      "source": [
        "print(sum(p.numel() for p in model.parameters())) \n",
        "\n",
        "# for i, (x, y) in enumerate(train_loader):\n",
        "#         print(x.shape, y.shape) \n",
        "#         break"
      ],
      "metadata": {
        "colab": {
          "base_uri": "https://localhost:8080/"
        },
        "id": "QNFjgz9zDWah",
        "outputId": "619953e4-c994-46dd-e96d-a7f76fdaf103"
      },
      "execution_count": 12,
      "outputs": [
        {
          "output_type": "stream",
          "name": "stdout",
          "text": [
            "1631657\n"
          ]
        }
      ]
    },
    {
      "cell_type": "code",
      "source": [
        "# def train(epoch):\n",
        "#     model.train()\n",
        "\n",
        "#     for i, (x, y) in enumerate(train_loader):\n",
        "#         print(\"y.shape\",y.shape)\n",
        "#         x, y = x.to(device), y.to(device)\n",
        "#         optimizer.zero_grad()\n",
        "#         pred = model(x)\n",
        "#         print(y)\n",
        "#         print(\"pred.shape\",pred.shape)\n",
        "#         loss = F.nll_loss(pred, y)\n",
        "#         loss.backward()\n",
        "#         optimizer.step()\n",
        "#         print(i, len(train_loader), loss.item())\n",
        "\n",
        "\n",
        "# def test():\n",
        "#     model.eval()\n",
        "\n",
        "#     correct = 0\n",
        "#     for i, (x, y) in enumerate(test_loader):\n",
        "#         x, y = x.to(device), y.to(device)\n",
        "#         pred = model(x).max(1)[1]\n",
        "#         correct += pred.eq(y).sum().item()\n",
        "#     return correct / len(test_dataset)\n",
        "\n",
        "\n",
        "# for epoch in range(1, 2):\n",
        "#     train(epoch)\n",
        "#     test_acc = test()\n",
        "#     print('Epoch: {:02d}, Test: {:.4f}'.format(epoch, test_acc))"
      ],
      "metadata": {
        "id": "b0WKNrFzDOdx"
      },
      "execution_count": null,
      "outputs": []
    }
  ],
  "metadata": {
    "kernelspec": {
      "display_name": "Python 3 (ipykernel)",
      "language": "python",
      "name": "python3"
    },
    "language_info": {
      "codemirror_mode": {
        "name": "ipython",
        "version": 3
      },
      "file_extension": ".py",
      "mimetype": "text/x-python",
      "name": "python",
      "nbconvert_exporter": "python",
      "pygments_lexer": "ipython3",
      "version": "3.8.13"
    },
    "colab": {
      "provenance": [],
      "machine_shape": "hm",
      "collapsed_sections": [],
      "include_colab_link": true
    },
    "accelerator": "GPU",
    "gpuClass": "standard"
  },
  "nbformat": 4,
  "nbformat_minor": 0
}